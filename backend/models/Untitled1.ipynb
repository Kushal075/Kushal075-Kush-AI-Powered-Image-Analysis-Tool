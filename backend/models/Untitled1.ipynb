{
 "cells": [
  {
   "cell_type": "code",
   "execution_count": 1,
   "id": "8b047fd6-45ee-4951-b7e6-50071a4c6569",
   "metadata": {},
   "outputs": [
    {
     "name": "stdout",
     "output_type": "stream",
     "text": [
      "TensorFlow version: 2.18.0\n"
     ]
    }
   ],
   "source": [
    "import tensorflow as tf\n",
    "print(\"TensorFlow version:\", tf.__version__)\n"
   ]
  },
  {
   "cell_type": "code",
   "execution_count": 2,
   "id": "1ebedc0d-a2a1-4114-91f3-c15f34854652",
   "metadata": {},
   "outputs": [
    {
     "name": "stdout",
     "output_type": "stream",
     "text": [
      "❌ Error loading model: [Errno 2] Unable to synchronously open file (unable to open file: name = 'brain_tumor_model.h5', errno = 2, error message = 'No such file or directory', flags = 0, o_flags = 0)\n"
     ]
    }
   ],
   "source": [
    "from tensorflow.keras.models import load_model\n",
    "\n",
    "MODEL_PATH = \"brain_tumor_model.h5\"\n",
    "\n",
    "try:\n",
    "    model = load_model(MODEL_PATH)\n",
    "    print(\"✅ Model loaded successfully!\")\n",
    "except Exception as e:\n",
    "    print(\"❌ Error loading model:\", e)\n"
   ]
  },
  {
   "cell_type": "code",
   "execution_count": 3,
   "id": "deeaf482-bfbf-46c0-8570-4eaf5eaecfef",
   "metadata": {},
   "outputs": [
    {
     "name": "stdout",
     "output_type": "stream",
     "text": [
      "Current Directory: C:\\Users\\KUSHAL\\OneDrive\\Desktop\\AI-Image-Analysis-Tool\\Kushal075-Kush-AI-Powered-Image-Analysis-Tool\\backend\\models\n"
     ]
    }
   ],
   "source": [
    "import os\n",
    "print(\"Current Directory:\", os.getcwd())\n"
   ]
  },
  {
   "cell_type": "code",
   "execution_count": 4,
   "id": "1a2ba817-0b73-4f74-9278-e9d77371461a",
   "metadata": {},
   "outputs": [
    {
     "name": "stdout",
     "output_type": "stream",
     "text": [
      "✅ Directory changed to: C:\\Users\\KUSHAL\\OneDrive\\Desktop\\AI-Image-Analysis-Tool\\Kushal075-Kush-AI-Powered-Image-Analysis-Tool\\backend\\models\n"
     ]
    }
   ],
   "source": [
    "os.chdir(\"C:/Users/KUSHAL/OneDrive/Desktop/AI-Image-Analysis-Tool/Kushal075-Kush-AI-Powered-Image-Analysis-Tool/backend/models\")\n",
    "print(\"✅ Directory changed to:\", os.getcwd())\n"
   ]
  },
  {
   "cell_type": "code",
   "execution_count": 5,
   "id": "e74e8de5-88db-4320-8124-bd39115cc5b2",
   "metadata": {},
   "outputs": [
    {
     "name": "stdout",
     "output_type": "stream",
     "text": [
      "Files in this directory: ['.git', '.ipynb_checkpoints', 'brain_tumor_model.h5.ipynb', 'crop_model.py', 'medical_model.py', 'README.md', 'Untitled.ipynb', 'Untitled1.ipynb', '__init__.py', '__pycache__']\n"
     ]
    }
   ],
   "source": [
    "print(\"Files in this directory:\", os.listdir())\n"
   ]
  },
  {
   "cell_type": "code",
   "execution_count": 6,
   "id": "dc3ce7a1-4675-4bf3-be44-7441950d8cbc",
   "metadata": {},
   "outputs": [
    {
     "name": "stdout",
     "output_type": "stream",
     "text": [
      "❌ Error loading model: [Errno 2] Unable to synchronously open file (unable to open file: name = 'brain_tumor_model.h5', errno = 2, error message = 'No such file or directory', flags = 0, o_flags = 0)\n"
     ]
    }
   ],
   "source": [
    "from tensorflow.keras.models import load_model\n",
    "\n",
    "MODEL_PATH = \"brain_tumor_model.h5\"\n",
    "\n",
    "try:\n",
    "    model = load_model(MODEL_PATH)\n",
    "    print(\"✅ Model loaded successfully!\")\n",
    "except Exception as e:\n",
    "    print(\"❌ Error loading model:\", e)\n"
   ]
  },
  {
   "cell_type": "code",
   "execution_count": 7,
   "id": "1b4b5675-4838-4619-b097-c50e75cd925f",
   "metadata": {},
   "outputs": [
    {
     "name": "stdout",
     "output_type": "stream",
     "text": [
      "❌ File does not exist.\n"
     ]
    }
   ],
   "source": [
    "import os\n",
    "\n",
    "file_path = \"brain_tumor_model.h5\"\n",
    "\n",
    "if os.path.exists(file_path):\n",
    "    print(f\"✅ File exists: {file_path}\")\n",
    "    print(f\"📂 File size: {os.path.getsize(file_path)} bytes\")\n",
    "else:\n",
    "    print(\"❌ File does not exist.\")\n"
   ]
  },
  {
   "cell_type": "code",
   "execution_count": 8,
   "id": "a492f744-c3c7-4296-b3f8-277c3847b389",
   "metadata": {},
   "outputs": [
    {
     "name": "stdout",
     "output_type": "stream",
     "text": [
      "❌ Error loading model: [Errno 2] Unable to synchronously open file (unable to open file: name = 'C:/Users/KUSHAL/OneDrive/Desktop/AI-Image-Analysis-Tool/Kushal075-Kush-AI-Powered-Image-Analysis-Tool/backend/models/brain_tumor_model.h5', errno = 2, error message = 'No such file or directory', flags = 0, o_flags = 0)\n"
     ]
    }
   ],
   "source": [
    "from tensorflow.keras.models import load_model\n",
    "\n",
    "MODEL_PATH = r\"C:/Users/KUSHAL/OneDrive/Desktop/AI-Image-Analysis-Tool/Kushal075-Kush-AI-Powered-Image-Analysis-Tool/backend/models/brain_tumor_model.h5\"\n",
    "\n",
    "try:\n",
    "    model = load_model(MODEL_PATH)\n",
    "    print(\"✅ Model loaded successfully!\")\n",
    "except Exception as e:\n",
    "    print(\"❌ Error loading model:\", e)\n"
   ]
  },
  {
   "cell_type": "code",
   "execution_count": 9,
   "id": "c8a62ea0-abe2-4e9b-abf7-c8fa2093d35a",
   "metadata": {},
   "outputs": [
    {
     "name": "stdout",
     "output_type": "stream",
     "text": [
      "📂 Current directory: C:\\Users\\KUSHAL\\OneDrive\\Desktop\\AI-Image-Analysis-Tool\\Kushal075-Kush-AI-Powered-Image-Analysis-Tool\\backend\\models\n",
      "📁 Files in this folder: ['.git', '.ipynb_checkpoints', 'brain_tumor_model.h5.ipynb', 'crop_model.py', 'medical_model.py', 'README.md', 'Untitled.ipynb', 'Untitled1.ipynb', '__init__.py', '__pycache__']\n"
     ]
    }
   ],
   "source": [
    "import os\n",
    "\n",
    "print(\"📂 Current directory:\", os.getcwd())\n",
    "print(\"📁 Files in this folder:\", os.listdir())\n"
   ]
  },
  {
   "cell_type": "code",
   "execution_count": 10,
   "id": "c5754b03-7a4d-48a6-a979-02cc776e2ede",
   "metadata": {},
   "outputs": [
    {
     "name": "stdout",
     "output_type": "stream",
     "text": [
      "❌ Model file is missing! Check OneDrive sync or move the file.\n",
      "❌ Error loading model: [Errno 2] Unable to synchronously open file (unable to open file: name = 'C:/Users/KUSHAL/OneDrive/Desktop/AI-Image-Analysis-Tool/Kushal075-Kush-AI-Powered-Image-Analysis-Tool/backend/models/brain_tumor_model.h5', errno = 2, error message = 'No such file or directory', flags = 0, o_flags = 0)\n"
     ]
    }
   ],
   "source": [
    "import os\n",
    "\n",
    "MODEL_PATH = r\"C:/Users/KUSHAL/OneDrive/Desktop/AI-Image-Analysis-Tool/Kushal075-Kush-AI-Powered-Image-Analysis-Tool/backend/models/brain_tumor_model.h5\"\n",
    "\n",
    "# Check if the file exists manually\n",
    "if os.path.isfile(MODEL_PATH):\n",
    "    print(\"✅ Model file found:\", MODEL_PATH)\n",
    "else:\n",
    "    print(\"❌ Model file is missing! Check OneDrive sync or move the file.\")\n",
    "\n",
    "# Try loading the model\n",
    "try:\n",
    "    from tensorflow.keras.models import load_model\n",
    "    model = load_model(MODEL_PATH)\n",
    "    print(\"✅ Model loaded successfully!\")\n",
    "except Exception as e:\n",
    "    print(\"❌ Error loading model:\", e)\n"
   ]
  },
  {
   "cell_type": "code",
   "execution_count": 11,
   "id": "e95cb611-7c4b-473f-895e-c07e7cfefdaf",
   "metadata": {},
   "outputs": [
    {
     "name": "stdout",
     "output_type": "stream",
     "text": [
      "❌ Model file is missing! Something is wrong.\n"
     ]
    }
   ],
   "source": [
    "import os\n",
    "\n",
    "MODEL_PATH = r\"C:/Users/KUSHAL/Desktop/brain_tumor_model.h5\"\n",
    "\n",
    "if os.path.isfile(MODEL_PATH):\n",
    "    print(\"✅ Model file found:\", MODEL_PATH)\n",
    "else:\n",
    "    print(\"❌ Model file is missing! Something is wrong.\")\n"
   ]
  },
  {
   "cell_type": "code",
   "execution_count": null,
   "id": "d6ba5098-2681-425c-8432-53066b1ee77b",
   "metadata": {},
   "outputs": [],
   "source": []
  }
 ],
 "metadata": {
  "kernelspec": {
   "display_name": "Python (ai-medical-env)",
   "language": "python",
   "name": "ai-medical-env"
  },
  "language_info": {
   "codemirror_mode": {
    "name": "ipython",
    "version": 3
   },
   "file_extension": ".py",
   "mimetype": "text/x-python",
   "name": "python",
   "nbconvert_exporter": "python",
   "pygments_lexer": "ipython3",
   "version": "3.9.21"
  }
 },
 "nbformat": 4,
 "nbformat_minor": 5
}
