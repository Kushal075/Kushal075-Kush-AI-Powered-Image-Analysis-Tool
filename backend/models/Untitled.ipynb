{
 "cells": [
  {
   "cell_type": "code",
   "execution_count": null,
   "id": "c145caa6-8e66-4b48-8255-931c0d8a9a85",
   "metadata": {},
   "outputs": [],
   "source": []
  }
 ],
 "metadata": {
  "kernelspec": {
   "display_name": "",
   "name": ""
  },
  "language_info": {
   "name": ""
  }
 },
 "nbformat": 4,
 "nbformat_minor": 5
}
